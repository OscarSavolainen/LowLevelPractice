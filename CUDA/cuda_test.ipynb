{
  "nbformat": 4,
  "nbformat_minor": 0,
  "metadata": {
    "colab": {
      "provenance": [],
      "gpuType": "T4"
    },
    "kernelspec": {
      "name": "python3",
      "display_name": "Python 3"
    },
    "language_info": {
      "name": "python"
    },
    "accelerator": "GPU"
  },
  "cells": [
    {
      "cell_type": "code",
      "execution_count": 1,
      "metadata": {
        "colab": {
          "base_uri": "https://localhost:8080/"
        },
        "id": "AxHNJIuUrU9Y",
        "outputId": "6471f441-1d95-4f15-84a2-eceb0edf0661"
      },
      "outputs": [
        {
          "output_type": "stream",
          "name": "stdout",
          "text": [
            "Collecting git+https://github.com/andreinechaev/nvcc4jupyter.git\n",
            "  Cloning https://github.com/andreinechaev/nvcc4jupyter.git to /tmp/pip-req-build-up2i43nx\n",
            "  Running command git clone --filter=blob:none --quiet https://github.com/andreinechaev/nvcc4jupyter.git /tmp/pip-req-build-up2i43nx\n",
            "  Resolved https://github.com/andreinechaev/nvcc4jupyter.git to commit 781ff5b76ba6c4c2d80dcbbec9983e147613cc71\n",
            "  Installing build dependencies ... \u001b[?25l\u001b[?25hdone\n",
            "  Getting requirements to build wheel ... \u001b[?25l\u001b[?25hdone\n",
            "  Preparing metadata (pyproject.toml) ... \u001b[?25l\u001b[?25hdone\n"
          ]
        }
      ],
      "source": [
        "!pip install git+https://github.com/andreinechaev/nvcc4jupyter.git"
      ]
    },
    {
      "cell_type": "code",
      "source": [
        "%load_ext nvcc4jupyter"
      ],
      "metadata": {
        "colab": {
          "base_uri": "https://localhost:8080/"
        },
        "id": "8S9rm-_dsV3O",
        "outputId": "d4bbefe5-83bb-44c8-a8dc-c96b1b880605"
      },
      "execution_count": 3,
      "outputs": [
        {
          "output_type": "stream",
          "name": "stdout",
          "text": [
            "Source files will be saved in \"/tmp/tmpmop9gnrk\".\n"
          ]
        }
      ]
    },
    {
      "cell_type": "code",
      "source": [
        "%%cuda\n",
        "#include <stdio.h>\n",
        "\n",
        "__global__ void hello(){\n",
        "    printf(\"Hello from block: %u, thread: %u\\n\", blockIdx.x, threadIdx.x);\n",
        "}\n",
        "\n",
        "int main(){\n",
        "    hello<<<2, 2>>>();\n",
        "    cudaDeviceSynchronize();\n",
        "}"
      ],
      "metadata": {
        "colab": {
          "base_uri": "https://localhost:8080/"
        },
        "id": "ZLBddhTWxkBG",
        "outputId": "608f8256-3cbb-4ddf-b0ca-b4e9f30cad92"
      },
      "execution_count": 4,
      "outputs": [
        {
          "output_type": "stream",
          "name": "stdout",
          "text": [
            "Hello from block: 1, thread: 0\n",
            "Hello from block: 1, thread: 1\n",
            "Hello from block: 0, thread: 0\n",
            "Hello from block: 0, thread: 1\n",
            "\n"
          ]
        }
      ]
    },
    {
      "cell_type": "code",
      "source": [
        "%%cuda\n",
        "#include <iostream>\n",
        "#include <vector>\n",
        "#include <numeric>\n",
        "#include <stdio.h>\n",
        "#include <typeinfo>\n",
        "\n",
        "__global__ void vectorAdd(float *a, float *b, float *c) {\n",
        "    int i = blockIdx.x * blockDim.x + threadIdx.x;\n",
        "    //printf(\"%u\", a);\n",
        "    c[i] = a[i] + b[i];\n",
        "    //printf(\"%u from %u\", c[i], i);\n",
        "}\n",
        "\n",
        "int main() {\n",
        "    dim3 blocksPerGrid(2,1,1);\n",
        "    dim3 threadsPerBlock(256,1,1);\n",
        "\n",
        "    int size = 50;\n",
        "\n",
        "    std::vector<float> a(size);\n",
        "    std::vector<float> b(size);\n",
        "    std::vector<float> c(size);\n",
        "\n",
        "    std::iota(a.begin(), a.end(), 1.0f);\n",
        "    std::iota(b.begin(), b.end(), 1.0f);\n",
        "\n",
        "    float* a_dev;\n",
        "    float* b_dev;\n",
        "    float* c_dev;\n",
        "\n",
        "    //cudaMalloc((void**)&a_dev, size * sizeof(float));\n",
        "\n",
        "    cudaMalloc((void**)&a_dev, size * sizeof(float));\n",
        "    cudaMalloc((void**)&b_dev, size * sizeof(float));\n",
        "    cudaMalloc((void**)&c_dev, size * sizeof(float));\n",
        "\n",
        "    cudaMemcpy(a_dev, a.data(), size * sizeof(float), cudaMemcpyHostToDevice);\n",
        "    cudaMemcpy(b_dev, b.data(), size * sizeof(float), cudaMemcpyHostToDevice);\n",
        "\n",
        "    vectorAdd<<<blocksPerGrid, threadsPerBlock>>>(a_dev, b_dev, c_dev);\n",
        "    cudaDeviceSynchronize();\n",
        "\n",
        "    cudaMemcpy(c.data(), c_dev, size * sizeof(float), cudaMemcpyDeviceToHost);\n",
        "\n",
        "\n",
        "    for (const auto& value : c) {\n",
        "        std::cout << value << \" \";\n",
        "    }\n",
        "\n",
        "    cudaFree(a_dev);\n",
        "    cudaFree(b_dev);\n",
        "    cudaFree(c_dev);\n",
        "}"
      ],
      "metadata": {
        "colab": {
          "base_uri": "https://localhost:8080/"
        },
        "id": "y3-nm3TUzHoA",
        "outputId": "d50fb5a3-49c8-4f7d-c22a-7dd5b4548cf3"
      },
      "execution_count": 33,
      "outputs": [
        {
          "output_type": "stream",
          "name": "stdout",
          "text": [
            "2 4 6 8 10 12 14 16 18 20 22 24 26 28 30 32 34 36 38 40 42 44 46 48 50 52 54 56 58 60 62 64 66 68 70 72 74 76 78 80 82 84 86 88 90 92 94 96 98 100 \n"
          ]
        }
      ]
    }
  ]
}